{
  "nbformat": 4,
  "nbformat_minor": 0,
  "metadata": {
    "colab": {
      "provenance": [],
      "collapsed_sections": []
    },
    "kernelspec": {
      "name": "python3",
      "display_name": "Python 3"
    },
    "language_info": {
      "name": "python"
    }
  },
  "cells": [
    {
      "cell_type": "markdown",
      "source": [
        "# BLOCKCHAIN ASSIGNMENT GROUP 54 (PROOF OF STAKE)"
      ],
      "metadata": {
        "id": "WWvPmHHkE_WA"
      }
    },
    {
      "cell_type": "markdown",
      "source": [
        "Visweswar Sirish Parupudi (2020AAPS0330H),\n",
        "Konkala Rithvik (2020A8PS0517H),\n",
        "Gautham Gutta (2020AAPS2204H),\n",
        "Gokul Pradeep (2018B5A70785H)\n",
        "\n",
        "\n",
        "\n"
      ],
      "metadata": {
        "id": "iXhCboKPHw0W"
      }
    },
    {
      "cell_type": "code",
      "source": [
        "from google.colab import drive\n",
        "drive.mount('/content/drive')"
      ],
      "metadata": {
        "colab": {
          "base_uri": "https://localhost:8080/"
        },
        "id": "tIAUGKTIp4Z4",
        "outputId": "1f1a7b89-f1e5-44be-efe5-1aca3cc14d7f"
      },
      "execution_count": 1,
      "outputs": [
        {
          "output_type": "stream",
          "name": "stdout",
          "text": [
            "Drive already mounted at /content/drive; to attempt to forcibly remount, call drive.mount(\"/content/drive\", force_remount=True).\n"
          ]
        }
      ]
    },
    {
      "cell_type": "markdown",
      "source": [
        "Installing the packages required for the task"
      ],
      "metadata": {
        "id": "pJCV2fU4KWL5"
      }
    },
    {
      "cell_type": "code",
      "source": [
        "pip install merkletools==1.0.3"
      ],
      "metadata": {
        "colab": {
          "base_uri": "https://localhost:8080/"
        },
        "id": "PDCSPzdvldH7",
        "outputId": "5df49ea3-bc9d-42a2-87dc-44e033f35491"
      },
      "execution_count": 2,
      "outputs": [
        {
          "output_type": "stream",
          "name": "stdout",
          "text": [
            "Looking in indexes: https://pypi.org/simple, https://us-python.pkg.dev/colab-wheels/public/simple/\n",
            "Requirement already satisfied: merkletools==1.0.3 in /usr/local/lib/python3.7/dist-packages (1.0.3)\n",
            "Requirement already satisfied: pysha3>=1.0b1 in /usr/local/lib/python3.7/dist-packages (from merkletools==1.0.3) (1.0b1)\n"
          ]
        }
      ]
    },
    {
      "cell_type": "code",
      "source": [
        "pip install pysha3==1.0b1"
      ],
      "metadata": {
        "colab": {
          "base_uri": "https://localhost:8080/"
        },
        "id": "pTWnHgITldA9",
        "outputId": "e33fd0cc-6ca8-4309-bda3-500ee1181499"
      },
      "execution_count": 3,
      "outputs": [
        {
          "output_type": "stream",
          "name": "stdout",
          "text": [
            "Looking in indexes: https://pypi.org/simple, https://us-python.pkg.dev/colab-wheels/public/simple/\n",
            "Requirement already satisfied: pysha3==1.0b1 in /usr/local/lib/python3.7/dist-packages (1.0b1)\n"
          ]
        }
      ]
    },
    {
      "cell_type": "markdown",
      "source": [
        "Importing various extensions"
      ],
      "metadata": {
        "id": "gqIhNDxOc_pS"
      }
    },
    {
      "cell_type": "code",
      "execution_count": 4,
      "metadata": {
        "id": "Omg1vhjblSvx",
        "colab": {
          "base_uri": "https://localhost:8080/"
        },
        "outputId": "e32e865f-a590-4536-b5d5-a19c26c7c6d1"
      },
      "outputs": [
        {
          "output_type": "stream",
          "name": "stderr",
          "text": [
            "/usr/local/lib/python3.7/dist-packages/merkletools/__init__.py:7: UserWarning: sha3 is not working!\n",
            "  warn(\"sha3 is not working!\")\n"
          ]
        }
      ],
      "source": [
        "from hashlib import sha256\n",
        "from merkletools import MerkleTools\n",
        "import json\n",
        "import time\n",
        "import datetime\n",
        "import random\n",
        "import numpy as np"
      ]
    },
    {
      "cell_type": "markdown",
      "source": [
        "This function is a part of merkletools and the sha 256 is the algorithm we use hence passed in it."
      ],
      "metadata": {
        "id": "uSMuIcRFdZnI"
      }
    },
    {
      "cell_type": "code",
      "source": [
        "mt = MerkleTools(hash_type=\"sha256\")     \n",
        "# This function is a part of merkletools and the sha 256 is the algorithm we use hence passed in it.\n"
      ],
      "metadata": {
        "id": "olMIitERlXSM"
      },
      "execution_count": 5,
      "outputs": []
    },
    {
      "cell_type": "markdown",
      "source": [
        "# Creating a Block"
      ],
      "metadata": {
        "id": "BGBejQv2E6RG"
      }
    },
    {
      "cell_type": "markdown",
      "source": [
        "Defining the Block class which has different properties as specified below."
      ],
      "metadata": {
        "id": "a7YoH9MtdcrA"
      }
    },
    {
      "cell_type": "code",
      "source": [
        "class Block: \n",
        "    def __init__(self, index, transactions, timestamp, previous_hash,root):\n",
        "        self.index = index\n",
        "        self.transactions = transactions\n",
        "        self.timestamp = timestamp\n",
        "        self.previous_hash = previous_hash\n",
        "        self.root = root\n",
        "\n",
        "    def display_block(self): #this is to store the block in the form of a dictionary to be visible later on the chain\n",
        "        block={'index' : self.index,\n",
        "              'transactions' : self.transactions,\n",
        "              'prev hash' : self.previous_hash,\n",
        "              'root' : self.root,\n",
        "              'hash' : self.hash,\n",
        "              'timestamp' : self.timestamp}\n",
        "        return block\n",
        "\n",
        "    def compute_hash(self): #this function computes the hash of our block\n",
        "        block_string = json.dumps(self.__dict__, sort_keys=True)\n",
        "        k= sha256(block_string.encode()).hexdigest()\n",
        "        self.hash = k\n",
        "        return k"
      ],
      "metadata": {
        "id": "JFSq7AAwlaYD"
      },
      "execution_count": 6,
      "outputs": []
    },
    {
      "cell_type": "markdown",
      "source": [
        "# Creating our Blockchain"
      ],
      "metadata": {
        "id": "a15Axh6iE0zt"
      }
    },
    {
      "cell_type": "code",
      "source": [
        "chaina=[]\n",
        "chainb=[] #this is our blockchain in which our block objects get stored"
      ],
      "metadata": {
        "id": "W_lzfTMlrFp7"
      },
      "execution_count": 7,
      "outputs": []
    },
    {
      "cell_type": "markdown",
      "source": [
        "Defining the Class Blockchain with properties and functions as shown below"
      ],
      "metadata": {
        "id": "b9zuqatIdlvq"
      }
    },
    {
      "cell_type": "code",
      "source": [
        "class Blockchain:\n",
        "  \n",
        "    def __init__(self):\n",
        "        \n",
        "        self.unconfirmed_transactions = [] #pool of transactions to be added to a block\n",
        "\n",
        "    def create_genesis_block(self): #function to create genesis block\n",
        "\n",
        "        genesis_block = Block(0, [], 0, \"0\",\"0\") #calling Block class to create an object for genesis block with required parameters\n",
        "        genesis_block.hash = genesis_block.compute_hash() #computing hash of genesis block\n",
        "        chaina.append(genesis_block)\n",
        "        g_block = genesis_block.display_block()\n",
        "        chainb.append(g_block) #adding the genesis block onto our chain\n",
        "    \n",
        "    def compute_root(self): #funtion to calculate merkle root of all transactions on our block\n",
        "\n",
        "      for i in range(len(self.unconfirmed_transactions)): \n",
        "        mt.add_leaf(str(self.unconfirmed_transactions[i]), True) #we make use of merkletools library for this\n",
        "      \n",
        "      leaf_count =  mt.get_leaf_count(); #we get a count of leaf nodes i.e transactions\n",
        "      mt.make_tree(); #the merkle tree is formed\n",
        "      is_ready = mt.is_ready \n",
        "      root_value = mt.get_merkle_root(); #we compute the value of root hash\n",
        "      mt.reset_tree() #the tree is reset\n",
        "      return root_value\n",
        "\n",
        "    def last_block(self): #function to return latest block in the chain\n",
        "      return chaina[-1]\n",
        "\n",
        "    def add_blocka(self, block):\n",
        "        previous_hash = self.last_block().hash\n",
        "        chaina.append(block)\n",
        "        return True\n",
        "\n",
        "    def add_blockb(self, block): #function to add a block into the chain\n",
        "        previous_hash = self.last_block().hash #linking the prev block hash to current block\n",
        "        chainb.append(block)\n",
        "        return True\n",
        "\n",
        "    def transactions(self,buyer,seller,property_,amount): #function to store transactions in a dictionary with required features\n",
        "      self.transaction = {'buyer' : buyer,\n",
        "                        'seller' : seller,\n",
        "                        'property' : property_,\n",
        "                        'amount' : amount,\n",
        "                        'timestamp' : str(datetime.datetime.now())}\n",
        "\n",
        "    def add_new_transaction(self): #to add a new transaction to our pool of transactions\n",
        "        self.unconfirmed_transactions.append(self.transaction) \n",
        "\n",
        "    def mine(self): #this is the function required to mine a block and add it to the chain \n",
        "\n",
        "        if not self.unconfirmed_transactions:\n",
        "            return False\n",
        "\n",
        "        latest_block = self.last_block()\n",
        "        \n",
        "        new_block = Block( #adding a new block with following features\n",
        "            index=latest_block.index + 1, #index of block\n",
        "            transactions=self.unconfirmed_transactions, #transactions on the block\n",
        "            timestamp=time.ctime(), #timestamp when the block is created\n",
        "            previous_hash=latest_block.hash, #previous hash of the block\n",
        "            root=self.compute_root() #merkle root of the block\n",
        "        )\n",
        "\n",
        "        new_block.compute_hash()\n",
        "        n_block= new_block.display_block()\n",
        "\n",
        "        self.add_blocka(new_block)\n",
        "        self.add_blockb(n_block)#adding our block to the chain\n",
        "\n",
        "        return True"
      ],
      "metadata": {
        "id": "H-1npaTNllOs"
      },
      "execution_count": 8,
      "outputs": []
    },
    {
      "cell_type": "code",
      "source": [
        "moneyRangeMin = 32   #we are defining a random range of money/stake to be used in the pos algorithm\n",
        "moneyRangeMax = 100000\n",
        "disableTime = 50 #no. of iterations node can't forge after being chosen"
      ],
      "metadata": {
        "id": "lD6FwmnbHfuR"
      },
      "execution_count": 9,
      "outputs": []
    },
    {
      "cell_type": "markdown",
      "source": [
        "# Participants child class of Blockchain class"
      ],
      "metadata": {
        "id": "O5-RM1hGEst1"
      }
    },
    {
      "cell_type": "markdown",
      "source": [
        "Defining the Participant class which has properties like name, address etc"
      ],
      "metadata": {
        "id": "8FFrefg2dvRg"
      }
    },
    {
      "cell_type": "code",
      "source": [
        "class Participant(Blockchain): #this is a child class of blockchain to register participants with required features\n",
        "    def __init__(self,name,property_,idNumber,amount):\n",
        "        super().__init__() #inheriting the parent class's init function\n",
        "        self.name = name\n",
        "        self.properties = property_\n",
        "        self.idNumber = idNumber\n",
        "        self.amount = amount\n",
        "        self.stackedCoin = random.randint(moneyRangeMin,moneyRangeMax) #generating a random initial amount as stake\n",
        "        self.time = 1\n",
        "        self.coin_age = self.stackedCoin #Initialize with stackedCoin because time = 1\n",
        "        self.selected = 0\n",
        "        self.desactivated = 0\n",
        "       \n",
        "    def display_node(self): #function to display/store participant as a dictionary\n",
        "        node={'name' : self.name,\n",
        "              'amount' : self.amount,\n",
        "              'id' : self.idNumber}\n",
        "        return node\n",
        "\n",
        "    def reset(self): # When a participant is chosen, the time is reset\n",
        "        self.time = 1\n",
        "        self.coin_age = self.time * self.stackedCoin\n",
        "\n",
        "    def unable(self):\n",
        "        self.desactivated = disableTime #Number of iteration a Participant is unable to forge after being chosen\n",
        "\n",
        "    def timePass(self): # called at each iterration to reduce the time a participant is disable\n",
        "        if self.desactivated > 0:\n",
        "            self.desactivated -= 1\n",
        "\n",
        "    def select(self): #Number of time a participant is selected\n",
        "        self.selected += 1\n",
        "\n",
        "    # def removeMoney(self,sub): #Remove coins\n",
        "    #     self.stackedCoin = self.stackedCoin - sub\n",
        "    #     self.coin_age = self.time * self.stackedCoin #refresh coin_age\n",
        "\n",
        "    # def addMoney(self,add): #Add coins\n",
        "    #     self.stackedCoin = self.stackedCoin + add\n",
        "    #     self.coin_age = self.time * self.stackedCoin #refresh coin_age\n",
        "\n",
        "    def increaseTime(self):\n",
        "        self.time += 1\n",
        "        self.coin_age = self.time * self.stackedCoin # stackedCoin * time, the time he didnt create a block, reset when he is chosen\n",
        "            "
      ],
      "metadata": {
        "id": "6cTzKfBQ2-Nc"
      },
      "execution_count": 10,
      "outputs": []
    },
    {
      "cell_type": "markdown",
      "source": [
        "# PROOF OF STAKE CONSENSUS ALGORITHM"
      ],
      "metadata": {
        "id": "DgXOOtN1Elom"
      }
    },
    {
      "cell_type": "code",
      "source": [
        "def minerSelection(participants): # Take all the coin_age to sum it and do a weighted selection\n",
        "#this is our consensus algorithm where one person is chosen randomly after they put up a stake which increases the chance for beinf selected based on coin age\n",
        "      totalCoinAge = sum([participant.coin_age for participant in participants if participant.desactivated == 0])\n",
        "      probabilities = (participant.coin_age/totalCoinAge for participant in participants if participant.desactivated == 0)\n",
        "      chosenOne = random.choices([participant for participant in participants if participant.desactivated == 0], weights=probabilities, k=1)[0] #Return a participant depending on a probability given by the coin_age\n",
        "      chosenOne.reset() #Reset his timer\n",
        "      chosenOne.unable()\n",
        "      return chosenOne\n",
        "\n",
        "\n",
        "def pos(chosen):\n",
        "          chosen.select()\n",
        "          chosenPerson.append(chosen)\n",
        "          chosen.mine() # The chosen one verify and add the block to the blockchain\n",
        "\n",
        "          for participant in participants: #Increase timer of other participants\n",
        "              participant.timePass() # Reduce timer of being disable for each participant having desactivated > 0\n",
        "              if participant.idNumber != chosen.idNumber:\n",
        "                  participant.increaseTime()\n"
      ],
      "metadata": {
        "id": "QeO-2KKRFVni"
      },
      "execution_count": 11,
      "outputs": []
    },
    {
      "cell_type": "code",
      "source": [
        "chosenPerson = [] #list of people chosen to mint/forge the block"
      ],
      "metadata": {
        "id": "cLvXLeToSucr"
      },
      "execution_count": 12,
      "outputs": []
    },
    {
      "cell_type": "markdown",
      "source": [
        "# Registring new users with property"
      ],
      "metadata": {
        "id": "0Mf0Sw1aEdUl"
      }
    },
    {
      "cell_type": "markdown",
      "source": [
        "This is the algorithm for Inputting participants to make transactions and mine the blocks.Participants can be added as seen fit and when the participant list is done the algorithm moves onto the blocks."
      ],
      "metadata": {
        "id": "ncdmjPIGd6or"
      }
    },
    {
      "cell_type": "code",
      "source": [
        "participants= []#list of participants\n",
        "names_list=[]\n",
        "while(True): #we run a loop to register participants into the blockchain \n",
        "  addP = input('press 1 to add participants, press 0 to finalize the participant list ')\n",
        "  l=0\n",
        "  if(addP=='1'):\n",
        "    print(\"Enter the details of paticipant\")\n",
        "    name= input('name:')\n",
        "    names_list.append(name)\n",
        "    property_=[item for item in input(\"Enter properties : \").split()]\n",
        "    idno=input('id no:')\n",
        "    amount=input('funds available for the person:')\n",
        "    participants.append(Participant(str(name),property_,str(idno),str(amount))) #creating participant objects based on inputs, and appending them to out list of participants\n",
        "    print(\"The current no of participants is \",len(participants))\n",
        "  \n",
        "  if(addP=='0' and l != 0):\n",
        "    break\n",
        "  if(addP=='0' and l==0):\n",
        "    print(\"No participants were added please add participants\")\n",
        "    break"
      ],
      "metadata": {
        "id": "aJNts5Gtt-17",
        "colab": {
          "base_uri": "https://localhost:8080/"
        },
        "outputId": "2f3feaba-efdf-4c58-afba-c2df87b595a2"
      },
      "execution_count": 13,
      "outputs": [
        {
          "output_type": "stream",
          "name": "stdout",
          "text": [
            "press 1 to add participants, press 0 to finalize the participant list 1\n",
            "Enter the details of paticipant\n",
            "name:sirish\n",
            "Enter properties : vyas vk\n",
            "id no:0330\n",
            "funds available for the person:1000\n",
            "The current no of participants is  1\n",
            "press 1 to add participants, press 0 to finalize the participant list 1\n",
            "Enter the details of paticipant\n",
            "name:rithvik\n",
            "Enter properties : shankar vm\n",
            "id no:0514\n",
            "funds available for the person:500\n",
            "The current no of participants is  2\n",
            "press 1 to add participants, press 0 to finalize the participant list 1\n",
            "Enter the details of paticipant\n",
            "name:gautham\n",
            "Enter properties : ram budh\n",
            "id no:2204\n",
            "funds available for the person:600\n",
            "The current no of participants is  3\n",
            "press 1 to add participants, press 0 to finalize the participant list 0\n",
            "No participants were added please add participants\n"
          ]
        }
      ]
    },
    {
      "cell_type": "markdown",
      "source": [
        "# IMPLEMENTING OUR BLOCKCHAIN"
      ],
      "metadata": {
        "id": "0zxp2_wWELG9"
      }
    },
    {
      "cell_type": "markdown",
      "source": [
        "Algorithm for mining blockchain we can add transactions and specify when the block can be mined."
      ],
      "metadata": {
        "id": "FUuzffYZeM4-"
      }
    },
    {
      "cell_type": "markdown",
      "source": [
        "Here we used a block with max of 6 transactions as a demo the number can be changed very easily. (In this case an option of  block being mined with lesser number of transactions is also enabled )"
      ],
      "metadata": {
        "id": "qJkz8bK4eV9t"
      }
    },
    {
      "cell_type": "markdown",
      "source": [
        "The algorithm asks for buyer and seller input and the amount of transaction which it then proceeds to add on block"
      ],
      "metadata": {
        "id": "ba7vCV_0edAX"
      }
    },
    {
      "cell_type": "code",
      "source": [
        "a=Blockchain() #initialising our blockchain\n",
        "a.create_genesis_block() #creating our genesis block\n",
        "transNo = 0\n",
        "while(True): #we start our loop to take in transactions\n",
        "  transNo = 0\n",
        "  print(\"Add details of trasnactions to be added onto the block\")\n",
        "  print(\"A maximum of 6 transactions can be added onto a block\")\n",
        "  miner=minerSelection(participants) #we select our miner based on the Proof Of Stake algorithm as implemented above\n",
        "\n",
        "  while(True):\n",
        "      transNo += 1;\n",
        "      print(\"This is transaction number \",transNo,\" on this block\\n\")\n",
        "      buyer = input('Buyer = ') #we start taking inputs\n",
        "      seller = input('Seller = ')\n",
        "      property1=[]\n",
        "      property1 = input('property = ')\n",
        "      amount = input('amount = ')\n",
        "      \n",
        "      buyerV = 0 \n",
        "      sellerV = 0 \n",
        "      buyerAV = 0\n",
        "      buyerI = 0\n",
        "      sellerI = 0\n",
        "      propertyI = 0\n",
        "\n",
        "      for i in range(len(participants)):  #we are checking if our seller is a valid user registered to the system\n",
        "        if (seller == participants[i].name): #this is to make sure the seller is only selling property that they own and not fraudulent property\n",
        "          for k in range(len(participants[i].properties)):\n",
        "            if participants[i].properties[k]==property1:\n",
        "              print(\"valid seller\")\n",
        "              propertyI = k\n",
        "              sellerV = 1\n",
        "              sellerI = i\n",
        "\n",
        "      for j in range(len(participants)):  #we are checking if our buyer is a valid user registered to the system\n",
        "        if (buyer == participants[j].name):\n",
        "          print(\"valid buyer\") \n",
        "          buyerV = 1\n",
        "          buyerI = j\n",
        "          \n",
        "      if (int(participants[buyerI].amount)> int(amount)): #we check if buyer can afford the transaction based on funds available in his account\n",
        "          buyerAV = 1\n",
        "          participants[buyerI].amount = int(participants[buyerI].amount)- int(amount) #we deduct the transaction amount from the buyer after the transaction\n",
        "          participants[sellerI].amount= int(participants[sellerI].amount)+ int(amount) #we increase the amount in the seller's wallet\n",
        "          participants[buyerI].properties.append(participants[sellerI].properties[propertyI]) #we transfer the property ownership from seller to buyer\n",
        "          participants[sellerI].properties.remove(participants[sellerI].properties[propertyI]) #the seller no longer owns said property\n",
        "\n",
        "\n",
        "\n",
        "      if(buyerV == 1 and sellerV == 1 and buyerAV == 1): #if all conditions satsify we add the transaction to our pool of transactions\n",
        "        miner.transactions(buyer,seller,property1,amount)\n",
        "        miner.add_new_transaction()\n",
        "\n",
        "        if (transNo > 6): #the block will get automatically mined if transactions exceed 6\n",
        "          print(\"There are already 6 transactions a block will be mined.\")\n",
        "          pos(miner) #the chosen miner from the pos algorithm mines and adds the block to the chain\n",
        "          print(\"chosen\", miner.name) #we can check who mined the block this time\n",
        "          print(chainb)\n",
        "          print(\"The next transactions will be added on a seperate block\")\n",
        "          transNo = 0\n",
        "          break\n",
        "\n",
        "        if (transNo != 0): #we can add transactions and mine the block at said time\n",
        "          select = input('enter 1 to add more transactions, enter 0 to mine a block = ')\n",
        "          if (select == '0'):\n",
        "            pos(miner) #the chosen miner from the pos algorithm mines and adds the block to the chain\n",
        "            print(\"chosen\", miner.name)#we can check who mined the block this time\n",
        "            print(chainb) #we can see the blockchain\n",
        "            transNo = 0\n",
        "            print(\"Block has been generated with the specified transactions\")\n",
        "            print(\"You can continue adding transactions\")\n",
        "            break\n",
        "\n",
        "      if(buyerAV==0):\n",
        "        print(\"Buyer has insufficient funds\")\n",
        "      \n",
        "      if(buyerV==0):\n",
        "        print(\"Invalid Buyer\")\n",
        "\n",
        "      if(sellerV==0):\n",
        "        print(\"Invalid Seller\")\n",
        "\n",
        "      if(buyerV == 0 or sellerV == 0 or buyerAV == 0):\n",
        "        print(\"Please enter valid details\")\n",
        "        transNo-=1;"
      ],
      "metadata": {
        "id": "coXTn279gJai",
        "colab": {
          "base_uri": "https://localhost:8080/",
          "height": 1000
        },
        "outputId": "97523355-b9c0-4097-944c-bfc40b5c0e1e"
      },
      "execution_count": 14,
      "outputs": [
        {
          "output_type": "stream",
          "name": "stdout",
          "text": [
            "Add details of trasnactions to be added onto the block\n",
            "A maximum of 6 transactions can be added onto a block\n",
            "This is transaction number  1  on this block\n",
            "\n",
            "Buyer = sirish\n",
            "Seller = rithvik\n",
            "property = vm\n",
            "amount = 200\n",
            "valid seller\n",
            "valid buyer\n",
            "enter 1 to add more transactions, enter 0 to mine a block = 1\n",
            "This is transaction number  2  on this block\n",
            "\n",
            "Buyer = gautham\n",
            "Seller = sirish\n",
            "property = vyas\n",
            "amount = 300\n",
            "valid seller\n",
            "valid buyer\n",
            "enter 1 to add more transactions, enter 0 to mine a block = 1\n",
            "This is transaction number  3  on this block\n",
            "\n",
            "Buyer = rithvik\n",
            "Seller = fraud\n",
            "property = scam\n",
            "amount = 100000\n",
            "valid buyer\n",
            "Buyer has insufficient funds\n",
            "Invalid Seller\n",
            "Please enter valid details\n",
            "This is transaction number  3  on this block\n",
            "\n",
            "Buyer = rithvik\n",
            "Seller = sirish\n",
            "property = vk\n",
            "amount = 200\n",
            "valid seller\n",
            "valid buyer\n",
            "enter 1 to add more transactions, enter 0 to mine a block = 1\n",
            "This is transaction number  4  on this block\n",
            "\n",
            "Buyer = gautham\n",
            "Seller = sirish\n",
            "property = ram\n",
            "amount = 400\n",
            "valid buyer\n",
            "Buyer has insufficient funds\n",
            "Invalid Seller\n",
            "Please enter valid details\n",
            "This is transaction number  4  on this block\n",
            "\n",
            "Buyer = gautham\n",
            "Seller = rithvik\n",
            "property = vk\n",
            "amount = 30\n",
            "valid seller\n",
            "valid buyer\n",
            "enter 1 to add more transactions, enter 0 to mine a block = 0\n",
            "chosen gautham\n",
            "[{'index': 0, 'transactions': [], 'prev hash': '0', 'root': '0', 'hash': '6702467f6f06b75b60d661fe4eeddfb5835c03a7fdaac4b87ac0f2ebcfe2c944', 'timestamp': 0}, {'index': 1, 'transactions': [{'buyer': 'sirish', 'seller': 'rithvik', 'property': 'vm', 'amount': '200', 'timestamp': '2022-10-17 18:01:41.406347'}, {'buyer': 'gautham', 'seller': 'sirish', 'property': 'vyas', 'amount': '300', 'timestamp': '2022-10-17 18:01:59.008093'}, {'buyer': 'rithvik', 'seller': 'sirish', 'property': 'vk', 'amount': '200', 'timestamp': '2022-10-17 18:02:49.321392'}, {'buyer': 'gautham', 'seller': 'rithvik', 'property': 'vk', 'amount': '30', 'timestamp': '2022-10-17 18:03:34.099062'}], 'prev hash': '6702467f6f06b75b60d661fe4eeddfb5835c03a7fdaac4b87ac0f2ebcfe2c944', 'root': '3bd9f99683bd141186a437a30d5d476c5591240f190e7291b8c3e417d994bc70', 'hash': 'd05a330af94baa7498066b78ec47d9133e5cc95231a63dcbd635cbcb8e4ecbc6', 'timestamp': 'Mon Oct 17 18:03:36 2022'}]\n",
            "Block has been generated with the specified transactions\n",
            "You can continue adding transactions\n",
            "Add details of trasnactions to be added onto the block\n",
            "A maximum of 6 transactions can be added onto a block\n",
            "This is transaction number  1  on this block\n",
            "\n",
            "Buyer = sirish\n",
            "Seller = rithvik\n",
            "property = shankar\n",
            "amount = 50\n",
            "valid seller\n",
            "valid buyer\n",
            "enter 1 to add more transactions, enter 0 to mine a block = 0\n",
            "chosen rithvik\n",
            "[{'index': 0, 'transactions': [], 'prev hash': '0', 'root': '0', 'hash': '6702467f6f06b75b60d661fe4eeddfb5835c03a7fdaac4b87ac0f2ebcfe2c944', 'timestamp': 0}, {'index': 1, 'transactions': [{'buyer': 'sirish', 'seller': 'rithvik', 'property': 'vm', 'amount': '200', 'timestamp': '2022-10-17 18:01:41.406347'}, {'buyer': 'gautham', 'seller': 'sirish', 'property': 'vyas', 'amount': '300', 'timestamp': '2022-10-17 18:01:59.008093'}, {'buyer': 'rithvik', 'seller': 'sirish', 'property': 'vk', 'amount': '200', 'timestamp': '2022-10-17 18:02:49.321392'}, {'buyer': 'gautham', 'seller': 'rithvik', 'property': 'vk', 'amount': '30', 'timestamp': '2022-10-17 18:03:34.099062'}], 'prev hash': '6702467f6f06b75b60d661fe4eeddfb5835c03a7fdaac4b87ac0f2ebcfe2c944', 'root': '3bd9f99683bd141186a437a30d5d476c5591240f190e7291b8c3e417d994bc70', 'hash': 'd05a330af94baa7498066b78ec47d9133e5cc95231a63dcbd635cbcb8e4ecbc6', 'timestamp': 'Mon Oct 17 18:03:36 2022'}, {'index': 2, 'transactions': [{'buyer': 'sirish', 'seller': 'rithvik', 'property': 'shankar', 'amount': '50', 'timestamp': '2022-10-17 18:04:17.702381'}], 'prev hash': 'd05a330af94baa7498066b78ec47d9133e5cc95231a63dcbd635cbcb8e4ecbc6', 'root': '3e85b8e4af9c1ac16e42ce6613776bc64949198dcb6f9f7e4c40f6355b9ce869', 'hash': '9124f973e486e2ec5cc94de8841155f1dec41a67c8f3046372d1c3ad58c66e18', 'timestamp': 'Mon Oct 17 18:04:21 2022'}]\n",
            "Block has been generated with the specified transactions\n",
            "You can continue adding transactions\n",
            "Add details of trasnactions to be added onto the block\n",
            "A maximum of 6 transactions can be added onto a block\n",
            "This is transaction number  1  on this block\n",
            "\n"
          ]
        },
        {
          "output_type": "error",
          "ename": "KeyboardInterrupt",
          "evalue": "ignored",
          "traceback": [
            "\u001b[0;31m---------------------------------------------------------------------------\u001b[0m",
            "\u001b[0;31mKeyboardInterrupt\u001b[0m                         Traceback (most recent call last)",
            "\u001b[0;32m<ipython-input-14-a6fd8c684edc>\u001b[0m in \u001b[0;36m<module>\u001b[0;34m\u001b[0m\n\u001b[1;32m     11\u001b[0m       \u001b[0mtransNo\u001b[0m \u001b[0;34m+=\u001b[0m \u001b[0;36m1\u001b[0m\u001b[0;34m;\u001b[0m\u001b[0;34m\u001b[0m\u001b[0;34m\u001b[0m\u001b[0m\n\u001b[1;32m     12\u001b[0m       \u001b[0mprint\u001b[0m\u001b[0;34m(\u001b[0m\u001b[0;34m\"This is transaction number \"\u001b[0m\u001b[0;34m,\u001b[0m\u001b[0mtransNo\u001b[0m\u001b[0;34m,\u001b[0m\u001b[0;34m\" on this block\\n\"\u001b[0m\u001b[0;34m)\u001b[0m\u001b[0;34m\u001b[0m\u001b[0;34m\u001b[0m\u001b[0m\n\u001b[0;32m---> 13\u001b[0;31m       \u001b[0mbuyer\u001b[0m \u001b[0;34m=\u001b[0m \u001b[0minput\u001b[0m\u001b[0;34m(\u001b[0m\u001b[0;34m'Buyer = '\u001b[0m\u001b[0;34m)\u001b[0m \u001b[0;31m#we start taking inputs\u001b[0m\u001b[0;34m\u001b[0m\u001b[0;34m\u001b[0m\u001b[0m\n\u001b[0m\u001b[1;32m     14\u001b[0m       \u001b[0mseller\u001b[0m \u001b[0;34m=\u001b[0m \u001b[0minput\u001b[0m\u001b[0;34m(\u001b[0m\u001b[0;34m'Seller = '\u001b[0m\u001b[0;34m)\u001b[0m\u001b[0;34m\u001b[0m\u001b[0;34m\u001b[0m\u001b[0m\n\u001b[1;32m     15\u001b[0m       \u001b[0mproperty1\u001b[0m\u001b[0;34m=\u001b[0m\u001b[0;34m[\u001b[0m\u001b[0;34m]\u001b[0m\u001b[0;34m\u001b[0m\u001b[0;34m\u001b[0m\u001b[0m\n",
            "\u001b[0;32m/usr/local/lib/python3.7/dist-packages/ipykernel/kernelbase.py\u001b[0m in \u001b[0;36mraw_input\u001b[0;34m(self, prompt)\u001b[0m\n\u001b[1;32m    861\u001b[0m             \u001b[0mself\u001b[0m\u001b[0;34m.\u001b[0m\u001b[0m_parent_ident\u001b[0m\u001b[0;34m,\u001b[0m\u001b[0;34m\u001b[0m\u001b[0;34m\u001b[0m\u001b[0m\n\u001b[1;32m    862\u001b[0m             \u001b[0mself\u001b[0m\u001b[0;34m.\u001b[0m\u001b[0m_parent_header\u001b[0m\u001b[0;34m,\u001b[0m\u001b[0;34m\u001b[0m\u001b[0;34m\u001b[0m\u001b[0m\n\u001b[0;32m--> 863\u001b[0;31m             \u001b[0mpassword\u001b[0m\u001b[0;34m=\u001b[0m\u001b[0;32mFalse\u001b[0m\u001b[0;34m,\u001b[0m\u001b[0;34m\u001b[0m\u001b[0;34m\u001b[0m\u001b[0m\n\u001b[0m\u001b[1;32m    864\u001b[0m         )\n\u001b[1;32m    865\u001b[0m \u001b[0;34m\u001b[0m\u001b[0m\n",
            "\u001b[0;32m/usr/local/lib/python3.7/dist-packages/ipykernel/kernelbase.py\u001b[0m in \u001b[0;36m_input_request\u001b[0;34m(self, prompt, ident, parent, password)\u001b[0m\n\u001b[1;32m    902\u001b[0m             \u001b[0;32mexcept\u001b[0m \u001b[0mKeyboardInterrupt\u001b[0m\u001b[0;34m:\u001b[0m\u001b[0;34m\u001b[0m\u001b[0;34m\u001b[0m\u001b[0m\n\u001b[1;32m    903\u001b[0m                 \u001b[0;31m# re-raise KeyboardInterrupt, to truncate traceback\u001b[0m\u001b[0;34m\u001b[0m\u001b[0;34m\u001b[0m\u001b[0;34m\u001b[0m\u001b[0m\n\u001b[0;32m--> 904\u001b[0;31m                 \u001b[0;32mraise\u001b[0m \u001b[0mKeyboardInterrupt\u001b[0m\u001b[0;34m(\u001b[0m\u001b[0;34m\"Interrupted by user\"\u001b[0m\u001b[0;34m)\u001b[0m \u001b[0;32mfrom\u001b[0m \u001b[0;32mNone\u001b[0m\u001b[0;34m\u001b[0m\u001b[0;34m\u001b[0m\u001b[0m\n\u001b[0m\u001b[1;32m    905\u001b[0m             \u001b[0;32mexcept\u001b[0m \u001b[0mException\u001b[0m \u001b[0;32mas\u001b[0m \u001b[0me\u001b[0m\u001b[0;34m:\u001b[0m\u001b[0;34m\u001b[0m\u001b[0;34m\u001b[0m\u001b[0m\n\u001b[1;32m    906\u001b[0m                 \u001b[0mself\u001b[0m\u001b[0;34m.\u001b[0m\u001b[0mlog\u001b[0m\u001b[0;34m.\u001b[0m\u001b[0mwarning\u001b[0m\u001b[0;34m(\u001b[0m\u001b[0;34m\"Invalid Message:\"\u001b[0m\u001b[0;34m,\u001b[0m \u001b[0mexc_info\u001b[0m\u001b[0;34m=\u001b[0m\u001b[0;32mTrue\u001b[0m\u001b[0;34m)\u001b[0m\u001b[0;34m\u001b[0m\u001b[0;34m\u001b[0m\u001b[0m\n",
            "\u001b[0;31mKeyboardInterrupt\u001b[0m: Interrupted by user"
          ]
        }
      ]
    },
    {
      "cell_type": "code",
      "source": [
        "prop=input('enter property')\n",
        "for i in range(len(chainb)):\n",
        "  for j in range(len(chainb[i]['transactions'])):\n",
        "    if chainb[i]['transactions'][j]['property']==prop:\n",
        "      print(chainb[i]['transactions'][j])\n",
        "\n",
        "#this function is to check transaction history of a property, input the property that is to be checked"
      ],
      "metadata": {
        "id": "K2crsUHkw5US",
        "colab": {
          "base_uri": "https://localhost:8080/"
        },
        "outputId": "6ded668a-abdf-4dc9-a4f0-0ad948778c1e"
      },
      "execution_count": 15,
      "outputs": [
        {
          "output_type": "stream",
          "name": "stdout",
          "text": [
            "enter propertyvk\n",
            "{'buyer': 'rithvik', 'seller': 'sirish', 'property': 'vk', 'amount': '200', 'timestamp': '2022-10-17 18:02:49.321392'}\n",
            "{'buyer': 'gautham', 'seller': 'rithvik', 'property': 'vk', 'amount': '30', 'timestamp': '2022-10-17 18:03:34.099062'}\n"
          ]
        }
      ]
    },
    {
      "cell_type": "code",
      "source": [
        "for i in range(len(participants)): #this shows the net worth and property owned by all participants\n",
        "  print(\"The participant \",participants[i].name,\" has a net amount of\",participants[i].amount, \"and property\", participants[i].properties)"
      ],
      "metadata": {
        "id": "_eLltghUe283",
        "colab": {
          "base_uri": "https://localhost:8080/"
        },
        "outputId": "4359e581-86e0-4695-a030-228ccad87725"
      },
      "execution_count": 16,
      "outputs": [
        {
          "output_type": "stream",
          "name": "stdout",
          "text": [
            "The participant  sirish  has a net amount of 1250 and property ['vm', 'shankar']\n",
            "The participant  rithvik  has a net amount of 580 and property []\n",
            "The participant  gautham  has a net amount of 270 and property ['ram', 'budh', 'vyas', 'vk']\n"
          ]
        }
      ]
    }
  ]
}